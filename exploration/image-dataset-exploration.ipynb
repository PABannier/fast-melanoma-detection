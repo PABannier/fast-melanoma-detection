{
 "cells": [
  {
   "cell_type": "code",
   "execution_count": 1,
   "metadata": {
    "_cell_guid": "b1076dfc-b9ad-4769-8c92-a6c4dae69d19",
    "_uuid": "8f2839f25d086af736a60e9eeb907d3b93b6e0e5",
    "execution": {
     "iopub.execute_input": "2022-02-15T08:57:52.505755Z",
     "iopub.status.busy": "2022-02-15T08:57:52.505415Z",
     "iopub.status.idle": "2022-02-15T08:57:53.588780Z",
     "shell.execute_reply": "2022-02-15T08:57:53.587945Z",
     "shell.execute_reply.started": "2022-02-15T08:57:52.505663Z"
    }
   },
   "outputs": [],
   "source": [
    "import os\n",
    "from pathlib import Path\n",
    "from glob import glob\n",
    "\n",
    "import numpy as np\n",
    "import pandas as pd\n",
    "import matplotlib.pyplot as plt\n",
    "import seaborn as sns\n",
    "\n",
    "import cv2\n",
    "from PIL import Image"
   ]
  },
  {
   "cell_type": "code",
   "execution_count": 2,
   "metadata": {
    "execution": {
     "iopub.execute_input": "2022-02-15T08:58:38.802612Z",
     "iopub.status.busy": "2022-02-15T08:58:38.802382Z",
     "iopub.status.idle": "2022-02-15T08:58:38.807462Z",
     "shell.execute_reply": "2022-02-15T08:58:38.806927Z",
     "shell.execute_reply.started": "2022-02-15T08:58:38.802588Z"
    }
   },
   "outputs": [],
   "source": [
    "DATA_PATH = Path(\"../input/siim-isic-melanoma-classification\")\n",
    "TRAIN_PATH = DATA_PATH / \"train.csv\"\n",
    "TEST_PATH = DATA_PATH / \"test.csv\"\n",
    "IMAGE_TRAIN_PATH = DATA_PATH / \"jpeg\" / \"train\"\n",
    "IMAGE_TEST_PATH = DATA_PATH / \"jpeg\" / \"test\""
   ]
  },
  {
   "cell_type": "code",
   "execution_count": 4,
   "metadata": {
    "execution": {
     "iopub.execute_input": "2022-02-15T08:59:21.421659Z",
     "iopub.status.busy": "2022-02-15T08:59:21.421420Z",
     "iopub.status.idle": "2022-02-15T08:59:21.473570Z",
     "shell.execute_reply": "2022-02-15T08:59:21.473160Z",
     "shell.execute_reply.started": "2022-02-15T08:59:21.421635Z"
    }
   },
   "outputs": [],
   "source": [
    "train_df = pd.read_csv(TRAIN_PATH)\n",
    "train_df.head()"
   ]
  },
  {
   "cell_type": "markdown",
   "metadata": {},
   "source": [
    "## Visualizing benign and malignant melanoma"
   ]
  },
  {
   "cell_type": "code",
   "execution_count": 36,
   "metadata": {
    "execution": {
     "iopub.execute_input": "2022-02-15T09:28:48.837043Z",
     "iopub.status.busy": "2022-02-15T09:28:48.836438Z",
     "iopub.status.idle": "2022-02-15T09:28:48.847848Z",
     "shell.execute_reply": "2022-02-15T09:28:48.847162Z",
     "shell.execute_reply.started": "2022-02-15T09:28:48.837011Z"
    }
   },
   "outputs": [],
   "source": [
    "def plot_melanoma(target=0, body_part=\"torso\", n=20, random_state=0):\n",
    "    image_list = train_df[(train_df[\"target\"] == target) & (train_df[\"anatom_site_general_challenge\"] == body_part)].sample(n=n, random_state=random_state)[\"image_name\"]\n",
    "    image_list = list(image_list.map(lambda x: IMAGE_TRAIN_PATH / Path(x + \".jpg\")))\n",
    "    \n",
    "    if n > 5:\n",
    "        fig, axes = plt.subplots(5, 4, figsize=(15, 15))\n",
    "        for i in range(5):\n",
    "            for j in range(4):\n",
    "                img = cv2.imread(str(image_list[i * 4 + j]))\n",
    "                img = cv2.cvtColor(img, cv2.COLOR_BGR2RGB)\n",
    "                axes[i][j].imshow(img)\n",
    "    else:\n",
    "        fig, axes = plt.subplots(1, n, figsize=(15, 3))\n",
    "        for i in range(n):\n",
    "            img = cv2.imread(str(image_list[i]))\n",
    "            img = cv2.cvtColor(img, cv2.COLOR_BGR2RGB)\n",
    "            axes[i].imshow(img)\n",
    "            \n",
    "    plt.suptitle(\"Melanoma (target=%s) on %s \" % (target, body_part), fontsize=17, fontweight=\"bold\")\n",
    "    plt.tight_layout()"
   ]
  },
  {
   "cell_type": "code",
   "execution_count": 31,
   "metadata": {
    "execution": {
     "iopub.execute_input": "2022-02-15T09:24:17.096683Z",
     "iopub.status.busy": "2022-02-15T09:24:17.096446Z",
     "iopub.status.idle": "2022-02-15T09:24:44.060396Z",
     "shell.execute_reply": "2022-02-15T09:24:44.059515Z",
     "shell.execute_reply.started": "2022-02-15T09:24:17.096659Z"
    }
   },
   "outputs": [],
   "source": [
    "plot_melanoma(0)"
   ]
  },
  {
   "cell_type": "code",
   "execution_count": 32,
   "metadata": {
    "execution": {
     "iopub.execute_input": "2022-02-15T09:25:19.284794Z",
     "iopub.status.busy": "2022-02-15T09:25:19.284507Z",
     "iopub.status.idle": "2022-02-15T09:25:34.431933Z",
     "shell.execute_reply": "2022-02-15T09:25:34.431114Z",
     "shell.execute_reply.started": "2022-02-15T09:25:19.284761Z"
    }
   },
   "outputs": [],
   "source": [
    "plot_melanoma(1)"
   ]
  },
  {
   "cell_type": "markdown",
   "metadata": {},
   "source": [
    "## Visualizing body parts"
   ]
  },
  {
   "cell_type": "code",
   "execution_count": 37,
   "metadata": {
    "execution": {
     "iopub.execute_input": "2022-02-15T09:29:01.109150Z",
     "iopub.status.busy": "2022-02-15T09:29:01.108847Z",
     "iopub.status.idle": "2022-02-15T09:29:12.478398Z",
     "shell.execute_reply": "2022-02-15T09:29:12.477691Z",
     "shell.execute_reply.started": "2022-02-15T09:29:01.109099Z"
    }
   },
   "outputs": [],
   "source": [
    "plot_melanoma(target=0, body_part=\"head/neck\", n=5)"
   ]
  },
  {
   "cell_type": "code",
   "execution_count": 38,
   "metadata": {
    "execution": {
     "iopub.execute_input": "2022-02-15T09:29:33.948962Z",
     "iopub.status.busy": "2022-02-15T09:29:33.948550Z",
     "iopub.status.idle": "2022-02-15T09:29:40.790901Z",
     "shell.execute_reply": "2022-02-15T09:29:40.789653Z",
     "shell.execute_reply.started": "2022-02-15T09:29:33.948928Z"
    }
   },
   "outputs": [],
   "source": [
    "plot_melanoma(target=1, body_part=\"head/neck\", n=5)"
   ]
  },
  {
   "cell_type": "code",
   "execution_count": 40,
   "metadata": {
    "execution": {
     "iopub.execute_input": "2022-02-15T09:30:19.334901Z",
     "iopub.status.busy": "2022-02-15T09:30:19.334398Z",
     "iopub.status.idle": "2022-02-15T09:30:29.424392Z",
     "shell.execute_reply": "2022-02-15T09:30:29.423681Z",
     "shell.execute_reply.started": "2022-02-15T09:30:19.334864Z"
    }
   },
   "outputs": [],
   "source": [
    "plot_melanoma(target=0, body_part=\"upper extremity\", n=5)"
   ]
  },
  {
   "cell_type": "code",
   "execution_count": 41,
   "metadata": {
    "execution": {
     "iopub.execute_input": "2022-02-15T09:30:32.153249Z",
     "iopub.status.busy": "2022-02-15T09:30:32.153005Z",
     "iopub.status.idle": "2022-02-15T09:30:41.349175Z",
     "shell.execute_reply": "2022-02-15T09:30:41.348434Z",
     "shell.execute_reply.started": "2022-02-15T09:30:32.153225Z"
    }
   },
   "outputs": [],
   "source": [
    "plot_melanoma(target=1, body_part=\"upper extremity\", n=5)"
   ]
  },
  {
   "cell_type": "code",
   "execution_count": 42,
   "metadata": {
    "execution": {
     "iopub.execute_input": "2022-02-15T09:31:00.349433Z",
     "iopub.status.busy": "2022-02-15T09:31:00.348768Z",
     "iopub.status.idle": "2022-02-15T09:31:10.173817Z",
     "shell.execute_reply": "2022-02-15T09:31:10.173267Z",
     "shell.execute_reply.started": "2022-02-15T09:31:00.349393Z"
    }
   },
   "outputs": [],
   "source": [
    "plot_melanoma(target=0, body_part=\"lower extremity\", n=5)"
   ]
  },
  {
   "cell_type": "code",
   "execution_count": 43,
   "metadata": {
    "execution": {
     "iopub.execute_input": "2022-02-15T09:31:10.175513Z",
     "iopub.status.busy": "2022-02-15T09:31:10.174961Z",
     "iopub.status.idle": "2022-02-15T09:31:12.241822Z",
     "shell.execute_reply": "2022-02-15T09:31:12.240697Z",
     "shell.execute_reply.started": "2022-02-15T09:31:10.175485Z"
    }
   },
   "outputs": [],
   "source": [
    "plot_melanoma(target=1, body_part=\"lower extremity\", n=5)"
   ]
  },
  {
   "cell_type": "code",
   "execution_count": 44,
   "metadata": {
    "execution": {
     "iopub.execute_input": "2022-02-15T09:31:20.829736Z",
     "iopub.status.busy": "2022-02-15T09:31:20.829452Z",
     "iopub.status.idle": "2022-02-15T09:31:26.647445Z",
     "shell.execute_reply": "2022-02-15T09:31:26.646696Z",
     "shell.execute_reply.started": "2022-02-15T09:31:20.829703Z"
    }
   },
   "outputs": [],
   "source": [
    "plot_melanoma(target=0, body_part=\"palms/soles\", n=5)"
   ]
  },
  {
   "cell_type": "code",
   "execution_count": 45,
   "metadata": {
    "execution": {
     "iopub.execute_input": "2022-02-15T09:31:26.649152Z",
     "iopub.status.busy": "2022-02-15T09:31:26.648911Z",
     "iopub.status.idle": "2022-02-15T09:31:28.424518Z",
     "shell.execute_reply": "2022-02-15T09:31:28.423589Z",
     "shell.execute_reply.started": "2022-02-15T09:31:26.649105Z"
    }
   },
   "outputs": [],
   "source": [
    "plot_melanoma(target=1, body_part=\"palms/soles\", n=5)"
   ]
  },
  {
   "cell_type": "code",
   "execution_count": 46,
   "metadata": {
    "execution": {
     "iopub.execute_input": "2022-02-15T09:31:28.426520Z",
     "iopub.status.busy": "2022-02-15T09:31:28.425885Z",
     "iopub.status.idle": "2022-02-15T09:31:29.522898Z",
     "shell.execute_reply": "2022-02-15T09:31:29.522272Z",
     "shell.execute_reply.started": "2022-02-15T09:31:28.426478Z"
    }
   },
   "outputs": [],
   "source": [
    "plot_melanoma(target=0, body_part=\"oral/genital\", n=3)"
   ]
  },
  {
   "cell_type": "code",
   "execution_count": 47,
   "metadata": {
    "execution": {
     "iopub.execute_input": "2022-02-15T09:31:29.525041Z",
     "iopub.status.busy": "2022-02-15T09:31:29.524654Z",
     "iopub.status.idle": "2022-02-15T09:31:33.153952Z",
     "shell.execute_reply": "2022-02-15T09:31:33.153115Z",
     "shell.execute_reply.started": "2022-02-15T09:31:29.525005Z"
    }
   },
   "outputs": [],
   "source": [
    "plot_melanoma(target=1, body_part=\"oral/genital\", n=3)"
   ]
  },
  {
   "cell_type": "markdown",
   "metadata": {},
   "source": [
    "- Generally speaking, malignant melanoma look darker and more asymmetric than benign ones. \n",
    "\n",
    "Some melanoma pictures exhibit hairs and a tiny medical scale. All of those constitute good ideas for data augmentation.\n",
    "It is worth noting that this tiny medical scale appears more predominantly on malignant images, which might constitute a form\n",
    "of leakage.\n",
    "\n",
    "- Other ideas for future data augmentation: change in contrast, saturation, random cropping."
   ]
  },
  {
   "cell_type": "code",
   "execution_count": null,
   "metadata": {},
   "outputs": [],
   "source": []
  }
 ],
 "metadata": {
  "kernelspec": {
   "display_name": "Python 3",
   "language": "python",
   "name": "python3"
  },
  "language_info": {
   "codemirror_mode": {
    "name": "ipython",
    "version": 3
   },
   "file_extension": ".py",
   "mimetype": "text/x-python",
   "name": "python",
   "nbconvert_exporter": "python",
   "pygments_lexer": "ipython3",
   "version": "3.9.0"
  }
 },
 "nbformat": 4,
 "nbformat_minor": 4
}
